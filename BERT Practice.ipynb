{
 "cells": [
  {
   "cell_type": "code",
   "execution_count": 83,
   "id": "a08a3eea-5661-4e35-b9aa-92212157e750",
   "metadata": {},
   "outputs": [],
   "source": [
    "import pandas as pd\n",
    "import numpy as np\n",
    "import matplotlib.pyplot as plt\n",
    "import seaborn as sns\n",
    "%matplotlib inline\n",
    "import os\n",
    "\n",
    "import tensorflow as tf\n",
    "from tensorflow.keras.preprocessing.text import Tokenizer\n",
    "from tensorflow.keras.preprocessing.sequence import pad_sequences\n",
    "from tensorflow.keras import Sequential\n",
    "from tensorflow.keras.models import load_model\n",
    "from tensorflow.keras.optimizers import Adam, SGD\n",
    "from tensorflow.keras.layers import Embedding, Dense, Dropout, Bidirectional, Input, GlobalAveragePooling1D, Flatten\n",
    "import tensorflow_hub as hub\n",
    "\n",
    "from sklearn.metrics import classification_report, confusion_matrix\n",
    "from sklearn.model_selection import train_test_split"
   ]
  },
  {
   "cell_type": "code",
   "execution_count": 84,
   "id": "2599fc49-858b-42c9-b69b-8d121702f26e",
   "metadata": {},
   "outputs": [
    {
     "name": "stdout",
     "output_type": "stream",
     "text": [
      "Requirement already satisfied: tensorflow-text in c:\\users\\e175932\\anaconda3\\lib\\site-packages (2.9.0)\n",
      "Requirement already satisfied: tensorflow-hub>=0.8.0 in c:\\users\\e175932\\anaconda3\\lib\\site-packages (from tensorflow-text) (0.12.0)\n",
      "Requirement already satisfied: tensorflow<2.10,>=2.9.0 in c:\\users\\e175932\\anaconda3\\lib\\site-packages (from tensorflow-text) (2.9.1)\n",
      "Requirement already satisfied: termcolor>=1.1.0 in c:\\users\\e175932\\anaconda3\\lib\\site-packages (from tensorflow<2.10,>=2.9.0->tensorflow-text) (1.1.0)\n",
      "Requirement already satisfied: astunparse>=1.6.0 in c:\\users\\e175932\\anaconda3\\lib\\site-packages (from tensorflow<2.10,>=2.9.0->tensorflow-text) (1.6.3)\n",
      "Requirement already satisfied: tensorboard<2.10,>=2.9 in c:\\users\\e175932\\anaconda3\\lib\\site-packages (from tensorflow<2.10,>=2.9.0->tensorflow-text) (2.9.1)\n",
      "Requirement already satisfied: setuptools in c:\\users\\e175932\\anaconda3\\lib\\site-packages (from tensorflow<2.10,>=2.9.0->tensorflow-text) (52.0.0.post20210125)\n",
      "Requirement already satisfied: typing-extensions>=3.6.6 in c:\\users\\e175932\\anaconda3\\lib\\site-packages (from tensorflow<2.10,>=2.9.0->tensorflow-text) (3.7.4.3)\n",
      "Requirement already satisfied: wrapt>=1.11.0 in c:\\users\\e175932\\anaconda3\\lib\\site-packages (from tensorflow<2.10,>=2.9.0->tensorflow-text) (1.12.1)\n",
      "Requirement already satisfied: flatbuffers<2,>=1.12 in c:\\users\\e175932\\anaconda3\\lib\\site-packages (from tensorflow<2.10,>=2.9.0->tensorflow-text) (1.12)\n",
      "Requirement already satisfied: keras-preprocessing>=1.1.1 in c:\\users\\e175932\\anaconda3\\lib\\site-packages (from tensorflow<2.10,>=2.9.0->tensorflow-text) (1.1.2)\n",
      "Requirement already satisfied: six>=1.12.0 in c:\\users\\e175932\\appdata\\roaming\\python\\python38\\site-packages (from tensorflow<2.10,>=2.9.0->tensorflow-text) (1.16.0)\n",
      "Requirement already satisfied: libclang>=13.0.0 in c:\\users\\e175932\\anaconda3\\lib\\site-packages (from tensorflow<2.10,>=2.9.0->tensorflow-text) (14.0.1)\n",
      "Requirement already satisfied: numpy>=1.20 in c:\\users\\e175932\\appdata\\roaming\\python\\python38\\site-packages (from tensorflow<2.10,>=2.9.0->tensorflow-text) (1.22.4)\n",
      "Requirement already satisfied: keras<2.10.0,>=2.9.0rc0 in c:\\users\\e175932\\anaconda3\\lib\\site-packages (from tensorflow<2.10,>=2.9.0->tensorflow-text) (2.9.0)\n",
      "Requirement already satisfied: protobuf<3.20,>=3.9.2 in c:\\users\\e175932\\anaconda3\\lib\\site-packages (from tensorflow<2.10,>=2.9.0->tensorflow-text) (3.19.4)\n",
      "Requirement already satisfied: gast<=0.4.0,>=0.2.1 in c:\\users\\e175932\\anaconda3\\lib\\site-packages (from tensorflow<2.10,>=2.9.0->tensorflow-text) (0.4.0)\n",
      "Requirement already satisfied: google-pasta>=0.1.1 in c:\\users\\e175932\\anaconda3\\lib\\site-packages (from tensorflow<2.10,>=2.9.0->tensorflow-text) (0.2.0)\n",
      "Requirement already satisfied: h5py>=2.9.0 in c:\\users\\e175932\\anaconda3\\lib\\site-packages (from tensorflow<2.10,>=2.9.0->tensorflow-text) (2.10.0)\n",
      "Requirement already satisfied: tensorflow-estimator<2.10.0,>=2.9.0rc0 in c:\\users\\e175932\\anaconda3\\lib\\site-packages (from tensorflow<2.10,>=2.9.0->tensorflow-text) (2.9.0)\n",
      "Requirement already satisfied: absl-py>=1.0.0 in c:\\users\\e175932\\anaconda3\\lib\\site-packages (from tensorflow<2.10,>=2.9.0->tensorflow-text) (1.2.0)\n",
      "Requirement already satisfied: grpcio<2.0,>=1.24.3 in c:\\users\\e175932\\anaconda3\\lib\\site-packages (from tensorflow<2.10,>=2.9.0->tensorflow-text) (1.47.0)\n",
      "Requirement already satisfied: tensorflow-io-gcs-filesystem>=0.23.1 in c:\\users\\e175932\\anaconda3\\lib\\site-packages (from tensorflow<2.10,>=2.9.0->tensorflow-text) (0.26.0)\n",
      "Requirement already satisfied: packaging in c:\\users\\e175932\\appdata\\roaming\\python\\python38\\site-packages (from tensorflow<2.10,>=2.9.0->tensorflow-text) (21.3)\n",
      "Requirement already satisfied: opt-einsum>=2.3.2 in c:\\users\\e175932\\anaconda3\\lib\\site-packages (from tensorflow<2.10,>=2.9.0->tensorflow-text) (3.3.0)\n",
      "Requirement already satisfied: wheel<1.0,>=0.23.0 in c:\\users\\e175932\\anaconda3\\lib\\site-packages (from astunparse>=1.6.0->tensorflow<2.10,>=2.9.0->tensorflow-text) (0.36.2)\n",
      "Requirement already satisfied: google-auth-oauthlib<0.5,>=0.4.1 in c:\\users\\e175932\\anaconda3\\lib\\site-packages (from tensorboard<2.10,>=2.9->tensorflow<2.10,>=2.9.0->tensorflow-text) (0.4.6)\n",
      "Requirement already satisfied: google-auth<3,>=1.6.3 in c:\\users\\e175932\\anaconda3\\lib\\site-packages (from tensorboard<2.10,>=2.9->tensorflow<2.10,>=2.9.0->tensorflow-text) (2.9.1)\n",
      "Requirement already satisfied: werkzeug>=1.0.1 in c:\\users\\e175932\\anaconda3\\lib\\site-packages (from tensorboard<2.10,>=2.9->tensorflow<2.10,>=2.9.0->tensorflow-text) (1.0.1)\n",
      "Requirement already satisfied: markdown>=2.6.8 in c:\\users\\e175932\\anaconda3\\lib\\site-packages (from tensorboard<2.10,>=2.9->tensorflow<2.10,>=2.9.0->tensorflow-text) (3.4.1)\n",
      "Requirement already satisfied: requests<3,>=2.21.0 in c:\\users\\e175932\\anaconda3\\lib\\site-packages (from tensorboard<2.10,>=2.9->tensorflow<2.10,>=2.9.0->tensorflow-text) (2.25.1)\n",
      "Requirement already satisfied: tensorboard-plugin-wit>=1.6.0 in c:\\users\\e175932\\anaconda3\\lib\\site-packages (from tensorboard<2.10,>=2.9->tensorflow<2.10,>=2.9.0->tensorflow-text) (1.8.1)\n",
      "Requirement already satisfied: tensorboard-data-server<0.7.0,>=0.6.0 in c:\\users\\e175932\\anaconda3\\lib\\site-packages (from tensorboard<2.10,>=2.9->tensorflow<2.10,>=2.9.0->tensorflow-text) (0.6.1)\n",
      "Requirement already satisfied: cachetools<6.0,>=2.0.0 in c:\\users\\e175932\\anaconda3\\lib\\site-packages (from google-auth<3,>=1.6.3->tensorboard<2.10,>=2.9->tensorflow<2.10,>=2.9.0->tensorflow-text) (5.2.0)\n",
      "Requirement already satisfied: rsa<5,>=3.1.4 in c:\\users\\e175932\\anaconda3\\lib\\site-packages (from google-auth<3,>=1.6.3->tensorboard<2.10,>=2.9->tensorflow<2.10,>=2.9.0->tensorflow-text) (4.8)\n",
      "Requirement already satisfied: pyasn1-modules>=0.2.1 in c:\\users\\e175932\\anaconda3\\lib\\site-packages (from google-auth<3,>=1.6.3->tensorboard<2.10,>=2.9->tensorflow<2.10,>=2.9.0->tensorflow-text) (0.2.8)\n",
      "Requirement already satisfied: requests-oauthlib>=0.7.0 in c:\\users\\e175932\\anaconda3\\lib\\site-packages (from google-auth-oauthlib<0.5,>=0.4.1->tensorboard<2.10,>=2.9->tensorflow<2.10,>=2.9.0->tensorflow-text) (1.3.1)\n",
      "Requirement already satisfied: importlib-metadata>=4.4 in c:\\users\\e175932\\anaconda3\\lib\\site-packages (from markdown>=2.6.8->tensorboard<2.10,>=2.9->tensorflow<2.10,>=2.9.0->tensorflow-text) (4.12.0)\n",
      "Requirement already satisfied: zipp>=0.5 in c:\\users\\e175932\\anaconda3\\lib\\site-packages (from importlib-metadata>=4.4->markdown>=2.6.8->tensorboard<2.10,>=2.9->tensorflow<2.10,>=2.9.0->tensorflow-text) (3.4.1)\n",
      "Requirement already satisfied: pyasn1<0.5.0,>=0.4.6 in c:\\users\\e175932\\anaconda3\\lib\\site-packages (from pyasn1-modules>=0.2.1->google-auth<3,>=1.6.3->tensorboard<2.10,>=2.9->tensorflow<2.10,>=2.9.0->tensorflow-text) (0.4.8)\n",
      "Requirement already satisfied: chardet<5,>=3.0.2 in c:\\users\\e175932\\anaconda3\\lib\\site-packages (from requests<3,>=2.21.0->tensorboard<2.10,>=2.9->tensorflow<2.10,>=2.9.0->tensorflow-text) (4.0.0)\n",
      "Requirement already satisfied: idna<3,>=2.5 in c:\\users\\e175932\\anaconda3\\lib\\site-packages (from requests<3,>=2.21.0->tensorboard<2.10,>=2.9->tensorflow<2.10,>=2.9.0->tensorflow-text) (2.10)\n",
      "Requirement already satisfied: certifi>=2017.4.17 in c:\\users\\e175932\\anaconda3\\lib\\site-packages (from requests<3,>=2.21.0->tensorboard<2.10,>=2.9->tensorflow<2.10,>=2.9.0->tensorflow-text) (2020.12.5)\n",
      "Requirement already satisfied: urllib3<1.27,>=1.21.1 in c:\\users\\e175932\\anaconda3\\lib\\site-packages (from requests<3,>=2.21.0->tensorboard<2.10,>=2.9->tensorflow<2.10,>=2.9.0->tensorflow-text) (1.26.4)\n",
      "Requirement already satisfied: oauthlib>=3.0.0 in c:\\users\\e175932\\anaconda3\\lib\\site-packages (from requests-oauthlib>=0.7.0->google-auth-oauthlib<0.5,>=0.4.1->tensorboard<2.10,>=2.9->tensorflow<2.10,>=2.9.0->tensorflow-text) (3.2.0)\n",
      "Requirement already satisfied: pyparsing!=3.0.5,>=2.0.2 in c:\\users\\e175932\\appdata\\roaming\\python\\python38\\site-packages (from packaging->tensorflow<2.10,>=2.9.0->tensorflow-text) (3.0.9)\n"
     ]
    }
   ],
   "source": [
    "!pip install tensorflow-text\n",
    "import tensorflow_text"
   ]
  },
  {
   "cell_type": "code",
   "execution_count": 85,
   "id": "8ab04401-bc8b-4865-8893-dfb76194f8a6",
   "metadata": {},
   "outputs": [
    {
     "data": {
      "text/html": [
       "<div>\n",
       "<style scoped>\n",
       "    .dataframe tbody tr th:only-of-type {\n",
       "        vertical-align: middle;\n",
       "    }\n",
       "\n",
       "    .dataframe tbody tr th {\n",
       "        vertical-align: top;\n",
       "    }\n",
       "\n",
       "    .dataframe thead th {\n",
       "        text-align: right;\n",
       "    }\n",
       "</style>\n",
       "<table border=\"1\" class=\"dataframe\">\n",
       "  <thead>\n",
       "    <tr style=\"text-align: right;\">\n",
       "      <th></th>\n",
       "      <th>discourse_id</th>\n",
       "      <th>essay_id</th>\n",
       "      <th>discourse_text</th>\n",
       "      <th>discourse_type</th>\n",
       "      <th>discourse_effectiveness</th>\n",
       "    </tr>\n",
       "  </thead>\n",
       "  <tbody>\n",
       "    <tr>\n",
       "      <th>0</th>\n",
       "      <td>0013cc385424</td>\n",
       "      <td>007ACE74B050</td>\n",
       "      <td>Hi, i'm Isaac, i'm going to be writing about h...</td>\n",
       "      <td>Lead</td>\n",
       "      <td>Adequate</td>\n",
       "    </tr>\n",
       "    <tr>\n",
       "      <th>1</th>\n",
       "      <td>9704a709b505</td>\n",
       "      <td>007ACE74B050</td>\n",
       "      <td>On my perspective, I think that the face is a ...</td>\n",
       "      <td>Position</td>\n",
       "      <td>Adequate</td>\n",
       "    </tr>\n",
       "    <tr>\n",
       "      <th>2</th>\n",
       "      <td>c22adee811b6</td>\n",
       "      <td>007ACE74B050</td>\n",
       "      <td>I think that the face is a natural landform be...</td>\n",
       "      <td>Claim</td>\n",
       "      <td>Adequate</td>\n",
       "    </tr>\n",
       "    <tr>\n",
       "      <th>3</th>\n",
       "      <td>a10d361e54e4</td>\n",
       "      <td>007ACE74B050</td>\n",
       "      <td>If life was on Mars, we would know by now. The...</td>\n",
       "      <td>Evidence</td>\n",
       "      <td>Adequate</td>\n",
       "    </tr>\n",
       "    <tr>\n",
       "      <th>4</th>\n",
       "      <td>db3e453ec4e2</td>\n",
       "      <td>007ACE74B050</td>\n",
       "      <td>People thought that the face was formed by ali...</td>\n",
       "      <td>Counterclaim</td>\n",
       "      <td>Adequate</td>\n",
       "    </tr>\n",
       "  </tbody>\n",
       "</table>\n",
       "</div>"
      ],
      "text/plain": [
       "   discourse_id      essay_id  ... discourse_type discourse_effectiveness\n",
       "0  0013cc385424  007ACE74B050  ...           Lead                Adequate\n",
       "1  9704a709b505  007ACE74B050  ...       Position                Adequate\n",
       "2  c22adee811b6  007ACE74B050  ...          Claim                Adequate\n",
       "3  a10d361e54e4  007ACE74B050  ...       Evidence                Adequate\n",
       "4  db3e453ec4e2  007ACE74B050  ...   Counterclaim                Adequate\n",
       "\n",
       "[5 rows x 5 columns]"
      ]
     },
     "execution_count": 85,
     "metadata": {},
     "output_type": "execute_result"
    }
   ],
   "source": [
    "df = pd.read_csv(\"data/train.csv\")\n",
    "df.head()"
   ]
  },
  {
   "cell_type": "code",
   "execution_count": 86,
   "id": "36b6451d-19d7-49a5-bde9-92a8dc3eaf19",
   "metadata": {},
   "outputs": [],
   "source": [
    "# pip install tensorflow_hub"
   ]
  },
  {
   "cell_type": "code",
   "execution_count": 87,
   "id": "4b646c8c-2f4a-446f-8656-8b9bcc62d88a",
   "metadata": {},
   "outputs": [
    {
     "data": {
      "text/html": [
       "<div>\n",
       "<style scoped>\n",
       "    .dataframe tbody tr th:only-of-type {\n",
       "        vertical-align: middle;\n",
       "    }\n",
       "\n",
       "    .dataframe tbody tr th {\n",
       "        vertical-align: top;\n",
       "    }\n",
       "\n",
       "    .dataframe thead th {\n",
       "        text-align: right;\n",
       "    }\n",
       "</style>\n",
       "<table border=\"1\" class=\"dataframe\">\n",
       "  <thead>\n",
       "    <tr style=\"text-align: right;\">\n",
       "      <th></th>\n",
       "      <th>discourse_id</th>\n",
       "      <th>essay_id</th>\n",
       "      <th>discourse_text</th>\n",
       "      <th>discourse_type</th>\n",
       "      <th>discourse_effectiveness</th>\n",
       "    </tr>\n",
       "  </thead>\n",
       "  <tbody>\n",
       "    <tr>\n",
       "      <th>count</th>\n",
       "      <td>36765</td>\n",
       "      <td>36765</td>\n",
       "      <td>36765</td>\n",
       "      <td>36765</td>\n",
       "      <td>36765</td>\n",
       "    </tr>\n",
       "    <tr>\n",
       "      <th>unique</th>\n",
       "      <td>36765</td>\n",
       "      <td>4191</td>\n",
       "      <td>36691</td>\n",
       "      <td>7</td>\n",
       "      <td>3</td>\n",
       "    </tr>\n",
       "    <tr>\n",
       "      <th>top</th>\n",
       "      <td>859f1081f7ba</td>\n",
       "      <td>91B1F82B2CF1</td>\n",
       "      <td>Summer projects should be student-designed</td>\n",
       "      <td>Evidence</td>\n",
       "      <td>Adequate</td>\n",
       "    </tr>\n",
       "    <tr>\n",
       "      <th>freq</th>\n",
       "      <td>1</td>\n",
       "      <td>23</td>\n",
       "      <td>14</td>\n",
       "      <td>12105</td>\n",
       "      <td>20977</td>\n",
       "    </tr>\n",
       "  </tbody>\n",
       "</table>\n",
       "</div>"
      ],
      "text/plain": [
       "        discourse_id      essay_id  ... discourse_type discourse_effectiveness\n",
       "count          36765         36765  ...          36765                   36765\n",
       "unique         36765          4191  ...              7                       3\n",
       "top     859f1081f7ba  91B1F82B2CF1  ...       Evidence                Adequate\n",
       "freq               1            23  ...          12105                   20977\n",
       "\n",
       "[4 rows x 5 columns]"
      ]
     },
     "execution_count": 87,
     "metadata": {},
     "output_type": "execute_result"
    }
   ],
   "source": [
    "df.describe()"
   ]
  },
  {
   "cell_type": "code",
   "execution_count": 88,
   "id": "069c32e9-125c-4114-af4c-673bc5bf266a",
   "metadata": {},
   "outputs": [],
   "source": [
    "df = df.drop_duplicates(subset =\"discourse_text\")\n",
    "df = df.drop(columns=['essay_id', 'discourse_type'])\n",
    "df = df.reset_index(drop = True)"
   ]
  },
  {
   "cell_type": "code",
   "execution_count": 89,
   "id": "75473802-2c42-4e7c-994a-b2f9f478d52c",
   "metadata": {},
   "outputs": [
    {
     "name": "stderr",
     "output_type": "stream",
     "text": [
      "C:\\Users\\e175932\\Anaconda3\\lib\\site-packages\\seaborn\\_decorators.py:36: FutureWarning: Pass the following variable as a keyword arg: x. From version 0.12, the only valid positional argument will be `data`, and passing other arguments without an explicit keyword will result in an error or misinterpretation.\n",
      "  warnings.warn(\n"
     ]
    },
    {
     "data": {
      "text/plain": [
       "<AxesSubplot:xlabel='discourse_effectiveness', ylabel='count'>"
      ]
     },
     "execution_count": 89,
     "metadata": {},
     "output_type": "execute_result"
    },
    {
     "data": {
      "image/png": "[encoded data removed]",
      "text/plain": [
       "<Figure size 432x288 with 1 Axes>"
      ]
     },
     "metadata": {
      "needs_background": "light"
     },
     "output_type": "display_data"
    }
   ],
   "source": [
    "sns.countplot(df['discourse_effectiveness'], alpha = 0.4)"
   ]
  },
  {
   "cell_type": "code",
   "execution_count": 90,
   "id": "342364d0-1093-417a-8b70-cae54a66557f",
   "metadata": {},
   "outputs": [
    {
     "data": {
      "text/plain": [
       "discourse_id               0\n",
       "discourse_text             0\n",
       "discourse_effectiveness    0\n",
       "dtype: int64"
      ]
     },
     "execution_count": 90,
     "metadata": {},
     "output_type": "execute_result"
    }
   ],
   "source": [
    "df.isna().sum()"
   ]
  },
  {
   "cell_type": "code",
   "execution_count": 91,
   "id": "d51e0cdb-e801-4ed7-b930-7390041f5313",
   "metadata": {},
   "outputs": [
    {
     "data": {
      "text/html": [
       "<div>\n",
       "<style scoped>\n",
       "    .dataframe tbody tr th:only-of-type {\n",
       "        vertical-align: middle;\n",
       "    }\n",
       "\n",
       "    .dataframe tbody tr th {\n",
       "        vertical-align: top;\n",
       "    }\n",
       "\n",
       "    .dataframe thead th {\n",
       "        text-align: right;\n",
       "    }\n",
       "</style>\n",
       "<table border=\"1\" class=\"dataframe\">\n",
       "  <thead>\n",
       "    <tr style=\"text-align: right;\">\n",
       "      <th></th>\n",
       "      <th>discourse_id</th>\n",
       "      <th>discourse_text</th>\n",
       "      <th>Adequate</th>\n",
       "      <th>Effective</th>\n",
       "      <th>Ineffective</th>\n",
       "    </tr>\n",
       "  </thead>\n",
       "  <tbody>\n",
       "    <tr>\n",
       "      <th>0</th>\n",
       "      <td>0013cc385424</td>\n",
       "      <td>Hi, i'm Isaac, i'm going to be writing about h...</td>\n",
       "      <td>1</td>\n",
       "      <td>0</td>\n",
       "      <td>0</td>\n",
       "    </tr>\n",
       "    <tr>\n",
       "      <th>1</th>\n",
       "      <td>9704a709b505</td>\n",
       "      <td>On my perspective, I think that the face is a ...</td>\n",
       "      <td>1</td>\n",
       "      <td>0</td>\n",
       "      <td>0</td>\n",
       "    </tr>\n",
       "    <tr>\n",
       "      <th>2</th>\n",
       "      <td>c22adee811b6</td>\n",
       "      <td>I think that the face is a natural landform be...</td>\n",
       "      <td>1</td>\n",
       "      <td>0</td>\n",
       "      <td>0</td>\n",
       "    </tr>\n",
       "    <tr>\n",
       "      <th>3</th>\n",
       "      <td>a10d361e54e4</td>\n",
       "      <td>If life was on Mars, we would know by now. The...</td>\n",
       "      <td>1</td>\n",
       "      <td>0</td>\n",
       "      <td>0</td>\n",
       "    </tr>\n",
       "    <tr>\n",
       "      <th>4</th>\n",
       "      <td>db3e453ec4e2</td>\n",
       "      <td>People thought that the face was formed by ali...</td>\n",
       "      <td>1</td>\n",
       "      <td>0</td>\n",
       "      <td>0</td>\n",
       "    </tr>\n",
       "  </tbody>\n",
       "</table>\n",
       "</div>"
      ],
      "text/plain": [
       "   discourse_id  ... Ineffective\n",
       "0  0013cc385424  ...           0\n",
       "1  9704a709b505  ...           0\n",
       "2  c22adee811b6  ...           0\n",
       "3  a10d361e54e4  ...           0\n",
       "4  db3e453ec4e2  ...           0\n",
       "\n",
       "[5 rows x 5 columns]"
      ]
     },
     "execution_count": 91,
     "metadata": {},
     "output_type": "execute_result"
    }
   ],
   "source": [
    "#One hot encode label\n",
    "\n",
    "label_dummies = pd.get_dummies(df['discourse_effectiveness'])\n",
    "df = pd.concat([df.drop(columns='discourse_effectiveness'), label_dummies], axis=1)\n",
    "\n",
    "#label\n",
    "# df['label'] = df['discourse_effectiveness'].apply(lambda x: 2 if x == 'Effective' else 1 if x == 'Adequate'else 0)\n",
    "# df = df.drop(columns='discourse_effectiveness')\n",
    "# df = df.drop(columns='essay_id')\n",
    "df.head()"
   ]
  },
  {
   "cell_type": "code",
   "execution_count": 92,
   "id": "40506761-b5fd-4818-90f4-5efbd0284203",
   "metadata": {},
   "outputs": [
    {
     "name": "stdout",
     "output_type": "stream",
     "text": [
      "(29352, 5) (7339, 5)\n"
     ]
    }
   ],
   "source": [
    "#train_text_split\n",
    "df_train, df_test = train_test_split(df, test_size=0.2)\n",
    "print(df_train.shape, df_test.shape)"
   ]
  },
  {
   "cell_type": "code",
   "execution_count": 93,
   "id": "6f2cdffb-59e8-401a-8585-8c0a30ab52c7",
   "metadata": {},
   "outputs": [
    {
     "data": {
      "text/plain": [
       "(29352,)"
      ]
     },
     "execution_count": 93,
     "metadata": {},
     "output_type": "execute_result"
    }
   ],
   "source": [
    "X_train=df_train[\"discourse_text\"]\n",
    "X_test=df_test[\"discourse_text\"]\n",
    "X_train.shape"
   ]
  },
  {
   "cell_type": "code",
   "execution_count": 94,
   "id": "e5c879a1-5338-418c-9167-73c360a5455b",
   "metadata": {},
   "outputs": [
    {
     "data": {
      "text/plain": [
       "(29352, 3)"
      ]
     },
     "execution_count": 94,
     "metadata": {},
     "output_type": "execute_result"
    }
   ],
   "source": [
    "label_class = ['Adequate', 'Effective', 'Ineffective']\n",
    "Y_train = df_train[label_class].values\n",
    "Y_test = df_test[label_class].values\n",
    "Y_train.shape"
   ]
  },
  {
   "cell_type": "code",
   "execution_count": 95,
   "id": "6212475f-5f3d-4a63-8847-079ee83b882c",
   "metadata": {},
   "outputs": [
    {
     "name": "stdout",
     "output_type": "stream",
     "text": [
      "Model: \"model_2\"\n",
      "__________________________________________________________________________________________________\n",
      " Layer (type)                   Output Shape         Param #     Connected to                     \n",
      "==================================================================================================\n",
      " input_9 (InputLayer)           [(None,)]            0           []                               \n",
      "                                                                                                  \n",
      " keras_layer_6 (KerasLayer)     {'input_type_ids':   0           ['input_9[0][0]']                \n",
      "                                (None, 128),                                                      \n",
      "                                 'input_mask': (Non                                               \n",
      "                                e, 128),                                                          \n",
      "                                 'input_word_ids':                                                \n",
      "                                (None, 128)}                                                      \n",
      "                                                                                                  \n",
      " keras_layer_7 (KerasLayer)     {'encoder_outputs':  4782465     ['keras_layer_6[0][0]',          \n",
      "                                 [(None, 128, 128),               'keras_layer_6[0][1]',          \n",
      "                                 (None, 128, 128),                'keras_layer_6[0][2]']          \n",
      "                                 (None, 128, 128),                                                \n",
      "                                 (None, 128, 128)],                                               \n",
      "                                 'sequence_output':                                               \n",
      "                                 (None, 128, 128),                                                \n",
      "                                 'pooled_output': (                                               \n",
      "                                None, 128),                                                       \n",
      "                                 'default': (None,                                                \n",
      "                                128)}                                                             \n",
      "                                                                                                  \n",
      " dense_6 (Dense)                (None, 64)           8256        ['keras_layer_7[0][5]']          \n",
      "                                                                                                  \n",
      " dropout_6 (Dropout)            (None, 64)           0           ['dense_6[0][0]']                \n",
      "                                                                                                  \n",
      " dense_7 (Dense)                (None, 32)           2080        ['dropout_6[0][0]']              \n",
      "                                                                                                  \n",
      " dropout_7 (Dropout)            (None, 32)           0           ['dense_7[0][0]']                \n",
      "                                                                                                  \n",
      " classifier (Dense)             (None, 3)            99          ['dropout_7[0][0]']              \n",
      "                                                                                                  \n",
      "==================================================================================================\n",
      "Total params: 4,792,900\n",
      "Trainable params: 4,792,899\n",
      "Non-trainable params: 1\n",
      "__________________________________________________________________________________________________\n"
     ]
    }
   ],
   "source": [
    "def our_Bert_model():\n",
    "    text_input = tf.keras.layers.Input(shape=(), dtype=tf.string)\n",
    "    preprocessor = hub.KerasLayer(\"https://tfhub.dev/tensorflow/bert_en_uncased_preprocess/3\")\n",
    "    encoder_inputs = preprocessor(text_input)\n",
    "    encoder = hub.KerasLayer(\"https://tfhub.dev/tensorflow/small_bert/bert_en_uncased_L-4_H-128_A-2/2\", trainable=True)\n",
    "    outputs = encoder(encoder_inputs)\n",
    "    net = outputs[\"pooled_output\"]      # [batch_size, 128].\n",
    "    net = Dense(64, activation = 'relu')(net)\n",
    "    net = Dropout(0.1)(net)\n",
    "    net = Dense(32, activation = 'relu')(net)\n",
    "    net = Dropout(0.1)(net)\n",
    "    net = Dense(3, activation = 'softmax', name = 'classifier')(net)\n",
    "    return tf.keras.Model(text_input, net)\n",
    "\n",
    "our_model = our_Bert_model()\n",
    "our_model.summary()\n",
    "our_model.compile(optimizer='Adam',\n",
    "          loss='categorical_crossentropy',\n",
    "          metrics=['accuracy'])"
   ]
  },
  {
   "cell_type": "code",
   "execution_count": null,
   "id": "fd6beadf-ba29-43b7-a336-b86a9315042f",
   "metadata": {},
   "outputs": [
    {
     "name": "stdout",
     "output_type": "stream",
     "text": [
      "Epoch 1/50\n",
      "918/918 [==============================] - ETA: 0s - loss: 0.9679 - accuracy: 0.5741"
     ]
    },
    {
     "name": "stderr",
     "output_type": "stream",
     "text": [
      "WARNING:absl:Found untraced functions such as restored_function_body, restored_function_body, restored_function_body, restored_function_body, restored_function_body while saving (showing 5 of 126). These functions will not be directly callable after loading.\n"
     ]
    },
    {
     "name": "stdout",
     "output_type": "stream",
     "text": [
      "INFO:tensorflow:Assets written to: model_Bert_embedding\\assets\n"
     ]
    },
    {
     "name": "stderr",
     "output_type": "stream",
     "text": [
      "INFO:tensorflow:Assets written to: model_Bert_embedding\\assets\n"
     ]
    },
    {
     "name": "stdout",
     "output_type": "stream",
     "text": [
      "918/918 [==============================] - 838s 909ms/step - loss: 0.9679 - accuracy: 0.5741 - val_loss: 0.9807 - val_accuracy: 0.5659\n",
      "Epoch 2/50\n",
      "918/918 [==============================] - ETA: 0s - loss: 0.9764 - accuracy: 0.5708"
     ]
    },
    {
     "name": "stderr",
     "output_type": "stream",
     "text": [
      "WARNING:absl:Found untraced functions such as restored_function_body, restored_function_body, restored_function_body, restored_function_body, restored_function_body while saving (showing 5 of 126). These functions will not be directly callable after loading.\n"
     ]
    },
    {
     "name": "stdout",
     "output_type": "stream",
     "text": [
      "INFO:tensorflow:Assets written to: model_Bert_embedding\\assets\n"
     ]
    },
    {
     "name": "stderr",
     "output_type": "stream",
     "text": [
      "INFO:tensorflow:Assets written to: model_Bert_embedding\\assets\n"
     ]
    },
    {
     "name": "stdout",
     "output_type": "stream",
     "text": [
      "918/918 [==============================] - 826s 900ms/step - loss: 0.9764 - accuracy: 0.5708 - val_loss: 0.9798 - val_accuracy: 0.5659\n",
      "Epoch 3/50\n",
      "918/918 [==============================] - ETA: 0s - loss: 0.9762 - accuracy: 0.5710"
     ]
    },
    {
     "name": "stderr",
     "output_type": "stream",
     "text": [
      "WARNING:absl:Found untraced functions such as restored_function_body, restored_function_body, restored_function_body, restored_function_body, restored_function_body while saving (showing 5 of 126). These functions will not be directly callable after loading.\n"
     ]
    },
    {
     "name": "stdout",
     "output_type": "stream",
     "text": [
      "INFO:tensorflow:Assets written to: model_Bert_embedding\\assets\n"
     ]
    },
    {
     "name": "stderr",
     "output_type": "stream",
     "text": [
      "INFO:tensorflow:Assets written to: model_Bert_embedding\\assets\n"
     ]
    },
    {
     "name": "stdout",
     "output_type": "stream",
     "text": [
      "918/918 [==============================] - 883s 963ms/step - loss: 0.9762 - accuracy: 0.5710 - val_loss: 0.9799 - val_accuracy: 0.5659\n",
      "Epoch 4/50\n",
      "918/918 [==============================] - ETA: 0s - loss: 0.9750 - accuracy: 0.5710"
     ]
    },
    {
     "name": "stderr",
     "output_type": "stream",
     "text": [
      "WARNING:absl:Found untraced functions such as restored_function_body, restored_function_body, restored_function_body, restored_function_body, restored_function_body while saving (showing 5 of 126). These functions will not be directly callable after loading.\n"
     ]
    },
    {
     "name": "stdout",
     "output_type": "stream",
     "text": [
      "INFO:tensorflow:Assets written to: model_Bert_embedding\\assets\n"
     ]
    },
    {
     "name": "stderr",
     "output_type": "stream",
     "text": [
      "INFO:tensorflow:Assets written to: model_Bert_embedding\\assets\n"
     ]
    },
    {
     "name": "stdout",
     "output_type": "stream",
     "text": [
      "918/918 [==============================] - 900s 980ms/step - loss: 0.9750 - accuracy: 0.5710 - val_loss: 0.9797 - val_accuracy: 0.5659\n",
      "Epoch 5/50\n",
      "918/918 [==============================] - ETA: 0s - loss: 0.9745 - accuracy: 0.5710"
     ]
    },
    {
     "name": "stderr",
     "output_type": "stream",
     "text": [
      "WARNING:absl:Found untraced functions such as restored_function_body, restored_function_body, restored_function_body, restored_function_body, restored_function_body while saving (showing 5 of 126). These functions will not be directly callable after loading.\n"
     ]
    },
    {
     "name": "stdout",
     "output_type": "stream",
     "text": [
      "INFO:tensorflow:Assets written to: model_Bert_embedding\\assets\n"
     ]
    },
    {
     "name": "stderr",
     "output_type": "stream",
     "text": [
      "INFO:tensorflow:Assets written to: model_Bert_embedding\\assets\n"
     ]
    },
    {
     "name": "stdout",
     "output_type": "stream",
     "text": [
      "918/918 [==============================] - 898s 978ms/step - loss: 0.9745 - accuracy: 0.5710 - val_loss: 0.9810 - val_accuracy: 0.5659\n",
      "Epoch 6/50\n",
      "918/918 [==============================] - ETA: 0s - loss: 0.9744 - accuracy: 0.5710"
     ]
    },
    {
     "name": "stderr",
     "output_type": "stream",
     "text": [
      "WARNING:absl:Found untraced functions such as restored_function_body, restored_function_body, restored_function_body, restored_function_body, restored_function_body while saving (showing 5 of 126). These functions will not be directly callable after loading.\n"
     ]
    },
    {
     "name": "stdout",
     "output_type": "stream",
     "text": [
      "INFO:tensorflow:Assets written to: model_Bert_embedding\\assets\n"
     ]
    },
    {
     "name": "stderr",
     "output_type": "stream",
     "text": [
      "INFO:tensorflow:Assets written to: model_Bert_embedding\\assets\n"
     ]
    },
    {
     "name": "stdout",
     "output_type": "stream",
     "text": [
      "918/918 [==============================] - 1085s 1s/step - loss: 0.9744 - accuracy: 0.5710 - val_loss: 0.9804 - val_accuracy: 0.5659\n",
      "Epoch 7/50\n",
      "918/918 [==============================] - ETA: 0s - loss: 0.9742 - accuracy: 0.5710"
     ]
    },
    {
     "name": "stderr",
     "output_type": "stream",
     "text": [
      "WARNING:absl:Found untraced functions such as restored_function_body, restored_function_body, restored_function_body, restored_function_body, restored_function_body while saving (showing 5 of 126). These functions will not be directly callable after loading.\n"
     ]
    },
    {
     "name": "stdout",
     "output_type": "stream",
     "text": [
      "INFO:tensorflow:Assets written to: model_Bert_embedding\\assets\n"
     ]
    },
    {
     "name": "stderr",
     "output_type": "stream",
     "text": [
      "INFO:tensorflow:Assets written to: model_Bert_embedding\\assets\n"
     ]
    },
    {
     "name": "stdout",
     "output_type": "stream",
     "text": [
      "918/918 [==============================] - 1063s 1s/step - loss: 0.9742 - accuracy: 0.5710 - val_loss: 0.9802 - val_accuracy: 0.5659\n",
      "Epoch 8/50\n",
      "848/918 [==========================>...] - ETA: 34:02 - loss: 0.9734 - accuracy: 0.5715"
     ]
    }
   ],
   "source": [
    "callback_model = tf.keras.callbacks.ModelCheckpoint('model_Bert_embedding', monitor = 'val_loss')\n",
    "history = our_model.fit(\n",
    "x = X_train, y = Y_train, epochs= 50, validation_data=(X_test, Y_test),\n",
    "callbacks= [callback_model])"
   ]
  },
  {
   "cell_type": "code",
   "execution_count": null,
   "id": "010667ec-1363-4269-98b1-03206cf26636",
   "metadata": {},
   "outputs": [],
   "source": [
    "# save model\n",
    "from tensorflow.keras.models import load_model\n",
    "our_model.save('model_Bert.h5')"
   ]
  },
  {
   "cell_type": "code",
   "execution_count": null,
   "id": "c5731c10-6e39-4448-9ab5-fb7b875ce25b",
   "metadata": {},
   "outputs": [],
   "source": [
    "losses = pd.DataFrame(our_model.history.history)\n",
    "plt.figure(figsize=(12,8))\n",
    "losses.plot()"
   ]
  },
  {
   "cell_type": "code",
   "execution_count": null,
   "id": "ccb0c653-c8a1-4355-8789-b22bd5a8d759",
   "metadata": {},
   "outputs": [],
   "source": []
  },
  {
   "cell_type": "markdown",
   "id": "df805792-9565-4408-a4e9-b9366dd41c98",
   "metadata": {},
   "source": [
    "### Predict and submit"
   ]
  },
  {
   "cell_type": "code",
   "execution_count": null,
   "id": "9be258f4-d80b-4e25-9066-3cb57bb92a7c",
   "metadata": {},
   "outputs": [],
   "source": [
    "# test = pd.read_csv(\"data/test.csv\")\n",
    "# X_test2 = test['discourse_text'])\n",
    "# pred5 = our_model.predict(X_test2)"
   ]
  },
  {
   "cell_type": "code",
   "execution_count": null,
   "id": "4fc930e0-b241-43f6-ad13-2d016f9393dc",
   "metadata": {},
   "outputs": [],
   "source": [
    "# pred5"
   ]
  },
  {
   "cell_type": "code",
   "execution_count": null,
   "id": "e51a1b5e-a029-428b-83ef-d829e98c548e",
   "metadata": {},
   "outputs": [],
   "source": [
    "# submission = pd.DataFrame()\n",
    "# submission['discourse_id'] = test['discourse_id']\n",
    "# submission['Ineffective'] = p_pred5[:,0]\n",
    "# submission['Adequate'] = p_pred5[:,1]\n",
    "# submission['Effective'] = p_pred5[:,2]\n",
    "# submission.to_csv(\"submission_bert1.csv\", )"
   ]
  },
  {
   "cell_type": "code",
   "execution_count": null,
   "id": "ac0dd99a-659b-4900-851c-d19a74921bc2",
   "metadata": {},
   "outputs": [],
   "source": []
  }
 ],
 "metadata": {
  "kernelspec": {
   "display_name": "Python 3",
   "language": "python",
   "name": "python3"
  },
  "language_info": {
   "codemirror_mode": {
    "name": "ipython",
    "version": 3
   },
   "file_extension": ".py",
   "mimetype": "text/x-python",
   "name": "python",
   "nbconvert_exporter": "python",
   "pygments_lexer": "ipython3",
   "version": "3.8.8"
  }
 },
 "nbformat": 4,
 "nbformat_minor": 5
}
