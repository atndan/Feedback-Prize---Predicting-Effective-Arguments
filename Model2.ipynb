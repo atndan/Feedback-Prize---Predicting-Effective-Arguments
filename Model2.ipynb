{
 "cells": [
  {
   "cell_type": "code",
   "execution_count": 70,
   "id": "a08a3eea-5661-4e35-b9aa-92212157e750",
   "metadata": {},
   "outputs": [],
   "source": [
    "import pandas as pd\n",
    "import numpy as np\n",
    "import matplotlib.pyplot as plt\n",
    "import seaborn as sns\n",
    "%matplotlib inline\n",
    "import string\n",
    "from sklearn.model_selection import train_test_split\n",
    "from sklearn.feature_extraction.text import TfidfVectorizer\n",
    "from sklearn import metrics\n",
    "from sklearn.linear_model import LogisticRegression\n",
    "from sklearn.ensemble import RandomForestClassifier\n",
    "from sklearn.model_selection import GridSearchCV\n",
    "from nltk.corpus import stopwords"
   ]
  },
  {
   "cell_type": "code",
   "execution_count": 71,
   "id": "8ab04401-bc8b-4865-8893-dfb76194f8a6",
   "metadata": {},
   "outputs": [
    {
     "data": {
      "text/html": [
       "<div>\n",
       "<style scoped>\n",
       "    .dataframe tbody tr th:only-of-type {\n",
       "        vertical-align: middle;\n",
       "    }\n",
       "\n",
       "    .dataframe tbody tr th {\n",
       "        vertical-align: top;\n",
       "    }\n",
       "\n",
       "    .dataframe thead th {\n",
       "        text-align: right;\n",
       "    }\n",
       "</style>\n",
       "<table border=\"1\" class=\"dataframe\">\n",
       "  <thead>\n",
       "    <tr style=\"text-align: right;\">\n",
       "      <th></th>\n",
       "      <th>discourse_id</th>\n",
       "      <th>essay_id</th>\n",
       "      <th>discourse_text</th>\n",
       "      <th>discourse_type</th>\n",
       "      <th>discourse_effectiveness</th>\n",
       "    </tr>\n",
       "  </thead>\n",
       "  <tbody>\n",
       "    <tr>\n",
       "      <th>0</th>\n",
       "      <td>0013cc385424</td>\n",
       "      <td>007ACE74B050</td>\n",
       "      <td>Hi, i'm Isaac, i'm going to be writing about h...</td>\n",
       "      <td>Lead</td>\n",
       "      <td>Adequate</td>\n",
       "    </tr>\n",
       "    <tr>\n",
       "      <th>1</th>\n",
       "      <td>9704a709b505</td>\n",
       "      <td>007ACE74B050</td>\n",
       "      <td>On my perspective, I think that the face is a ...</td>\n",
       "      <td>Position</td>\n",
       "      <td>Adequate</td>\n",
       "    </tr>\n",
       "    <tr>\n",
       "      <th>2</th>\n",
       "      <td>c22adee811b6</td>\n",
       "      <td>007ACE74B050</td>\n",
       "      <td>I think that the face is a natural landform be...</td>\n",
       "      <td>Claim</td>\n",
       "      <td>Adequate</td>\n",
       "    </tr>\n",
       "    <tr>\n",
       "      <th>3</th>\n",
       "      <td>a10d361e54e4</td>\n",
       "      <td>007ACE74B050</td>\n",
       "      <td>If life was on Mars, we would know by now. The...</td>\n",
       "      <td>Evidence</td>\n",
       "      <td>Adequate</td>\n",
       "    </tr>\n",
       "    <tr>\n",
       "      <th>4</th>\n",
       "      <td>db3e453ec4e2</td>\n",
       "      <td>007ACE74B050</td>\n",
       "      <td>People thought that the face was formed by ali...</td>\n",
       "      <td>Counterclaim</td>\n",
       "      <td>Adequate</td>\n",
       "    </tr>\n",
       "  </tbody>\n",
       "</table>\n",
       "</div>"
      ],
      "text/plain": [
       "   discourse_id      essay_id  \\\n",
       "0  0013cc385424  007ACE74B050   \n",
       "1  9704a709b505  007ACE74B050   \n",
       "2  c22adee811b6  007ACE74B050   \n",
       "3  a10d361e54e4  007ACE74B050   \n",
       "4  db3e453ec4e2  007ACE74B050   \n",
       "\n",
       "                                      discourse_text discourse_type  \\\n",
       "0  Hi, i'm Isaac, i'm going to be writing about h...           Lead   \n",
       "1  On my perspective, I think that the face is a ...       Position   \n",
       "2  I think that the face is a natural landform be...          Claim   \n",
       "3  If life was on Mars, we would know by now. The...       Evidence   \n",
       "4  People thought that the face was formed by ali...   Counterclaim   \n",
       "\n",
       "  discourse_effectiveness  \n",
       "0                Adequate  \n",
       "1                Adequate  \n",
       "2                Adequate  \n",
       "3                Adequate  \n",
       "4                Adequate  "
      ]
     },
     "execution_count": 71,
     "metadata": {},
     "output_type": "execute_result"
    }
   ],
   "source": [
    "df = pd.read_csv(\"data/train.csv\")\n",
    "df.head()"
   ]
  },
  {
   "cell_type": "code",
   "execution_count": 72,
   "id": "ebeb6135-a8ee-404f-9518-82311a575207",
   "metadata": {},
   "outputs": [
    {
     "name": "stdout",
     "output_type": "stream",
     "text": [
      "<class 'pandas.core.frame.DataFrame'>\n",
      "RangeIndex: 36765 entries, 0 to 36764\n",
      "Data columns (total 5 columns):\n",
      " #   Column                   Non-Null Count  Dtype \n",
      "---  ------                   --------------  ----- \n",
      " 0   discourse_id             36765 non-null  object\n",
      " 1   essay_id                 36765 non-null  object\n",
      " 2   discourse_text           36765 non-null  object\n",
      " 3   discourse_type           36765 non-null  object\n",
      " 4   discourse_effectiveness  36765 non-null  object\n",
      "dtypes: object(5)\n",
      "memory usage: 1.4+ MB\n"
     ]
    }
   ],
   "source": [
    "df.info()"
   ]
  },
  {
   "cell_type": "code",
   "execution_count": 73,
   "id": "4b646c8c-2f4a-446f-8656-8b9bcc62d88a",
   "metadata": {},
   "outputs": [
    {
     "data": {
      "text/html": [
       "<div>\n",
       "<style scoped>\n",
       "    .dataframe tbody tr th:only-of-type {\n",
       "        vertical-align: middle;\n",
       "    }\n",
       "\n",
       "    .dataframe tbody tr th {\n",
       "        vertical-align: top;\n",
       "    }\n",
       "\n",
       "    .dataframe thead th {\n",
       "        text-align: right;\n",
       "    }\n",
       "</style>\n",
       "<table border=\"1\" class=\"dataframe\">\n",
       "  <thead>\n",
       "    <tr style=\"text-align: right;\">\n",
       "      <th></th>\n",
       "      <th>discourse_id</th>\n",
       "      <th>essay_id</th>\n",
       "      <th>discourse_text</th>\n",
       "      <th>discourse_type</th>\n",
       "      <th>discourse_effectiveness</th>\n",
       "    </tr>\n",
       "  </thead>\n",
       "  <tbody>\n",
       "    <tr>\n",
       "      <th>count</th>\n",
       "      <td>36765</td>\n",
       "      <td>36765</td>\n",
       "      <td>36765</td>\n",
       "      <td>36765</td>\n",
       "      <td>36765</td>\n",
       "    </tr>\n",
       "    <tr>\n",
       "      <th>unique</th>\n",
       "      <td>36765</td>\n",
       "      <td>4191</td>\n",
       "      <td>36691</td>\n",
       "      <td>7</td>\n",
       "      <td>3</td>\n",
       "    </tr>\n",
       "    <tr>\n",
       "      <th>top</th>\n",
       "      <td>e35c487abf6a</td>\n",
       "      <td>900A879708F0</td>\n",
       "      <td>Summer projects should be student-designed</td>\n",
       "      <td>Evidence</td>\n",
       "      <td>Adequate</td>\n",
       "    </tr>\n",
       "    <tr>\n",
       "      <th>freq</th>\n",
       "      <td>1</td>\n",
       "      <td>23</td>\n",
       "      <td>14</td>\n",
       "      <td>12105</td>\n",
       "      <td>20977</td>\n",
       "    </tr>\n",
       "  </tbody>\n",
       "</table>\n",
       "</div>"
      ],
      "text/plain": [
       "        discourse_id      essay_id  \\\n",
       "count          36765         36765   \n",
       "unique         36765          4191   \n",
       "top     e35c487abf6a  900A879708F0   \n",
       "freq               1            23   \n",
       "\n",
       "                                     discourse_text discourse_type  \\\n",
       "count                                         36765          36765   \n",
       "unique                                        36691              7   \n",
       "top     Summer projects should be student-designed        Evidence   \n",
       "freq                                             14          12105   \n",
       "\n",
       "       discourse_effectiveness  \n",
       "count                    36765  \n",
       "unique                       3  \n",
       "top                   Adequate  \n",
       "freq                     20977  "
      ]
     },
     "execution_count": 73,
     "metadata": {},
     "output_type": "execute_result"
    }
   ],
   "source": [
    "df.describe()"
   ]
  },
  {
   "cell_type": "code",
   "execution_count": 74,
   "id": "069c32e9-125c-4114-af4c-673bc5bf266a",
   "metadata": {},
   "outputs": [
    {
     "data": {
      "text/html": [
       "<div>\n",
       "<style scoped>\n",
       "    .dataframe tbody tr th:only-of-type {\n",
       "        vertical-align: middle;\n",
       "    }\n",
       "\n",
       "    .dataframe tbody tr th {\n",
       "        vertical-align: top;\n",
       "    }\n",
       "\n",
       "    .dataframe thead th {\n",
       "        text-align: right;\n",
       "    }\n",
       "</style>\n",
       "<table border=\"1\" class=\"dataframe\">\n",
       "  <thead>\n",
       "    <tr style=\"text-align: right;\">\n",
       "      <th></th>\n",
       "      <th>discourse_id</th>\n",
       "      <th>essay_id</th>\n",
       "      <th>discourse_text</th>\n",
       "      <th>discourse_type</th>\n",
       "      <th>discourse_effectiveness</th>\n",
       "    </tr>\n",
       "  </thead>\n",
       "  <tbody>\n",
       "    <tr>\n",
       "      <th>count</th>\n",
       "      <td>36691</td>\n",
       "      <td>36691</td>\n",
       "      <td>36691</td>\n",
       "      <td>36691</td>\n",
       "      <td>36691</td>\n",
       "    </tr>\n",
       "    <tr>\n",
       "      <th>unique</th>\n",
       "      <td>36691</td>\n",
       "      <td>4191</td>\n",
       "      <td>36691</td>\n",
       "      <td>7</td>\n",
       "      <td>3</td>\n",
       "    </tr>\n",
       "    <tr>\n",
       "      <th>top</th>\n",
       "      <td>e35c487abf6a</td>\n",
       "      <td>91B1F82B2CF1</td>\n",
       "      <td>i feel that the lesson plans have worked for o...</td>\n",
       "      <td>Evidence</td>\n",
       "      <td>Adequate</td>\n",
       "    </tr>\n",
       "    <tr>\n",
       "      <th>freq</th>\n",
       "      <td>1</td>\n",
       "      <td>23</td>\n",
       "      <td>1</td>\n",
       "      <td>12104</td>\n",
       "      <td>20912</td>\n",
       "    </tr>\n",
       "  </tbody>\n",
       "</table>\n",
       "</div>"
      ],
      "text/plain": [
       "        discourse_id      essay_id  \\\n",
       "count          36691         36691   \n",
       "unique         36691          4191   \n",
       "top     e35c487abf6a  91B1F82B2CF1   \n",
       "freq               1            23   \n",
       "\n",
       "                                           discourse_text discourse_type  \\\n",
       "count                                               36691          36691   \n",
       "unique                                              36691              7   \n",
       "top     i feel that the lesson plans have worked for o...       Evidence   \n",
       "freq                                                    1          12104   \n",
       "\n",
       "       discourse_effectiveness  \n",
       "count                    36691  \n",
       "unique                       3  \n",
       "top                   Adequate  \n",
       "freq                     20912  "
      ]
     },
     "execution_count": 74,
     "metadata": {},
     "output_type": "execute_result"
    }
   ],
   "source": [
    "df = df.drop_duplicates(subset =\"discourse_text\")\n",
    "df.describe()"
   ]
  },
  {
   "cell_type": "code",
   "execution_count": 75,
   "id": "75473802-2c42-4e7c-994a-b2f9f478d52c",
   "metadata": {},
   "outputs": [
    {
     "name": "stderr",
     "output_type": "stream",
     "text": [
      "C:\\Users\\e175932\\Anaconda3\\lib\\site-packages\\seaborn\\_decorators.py:36: FutureWarning: Pass the following variable as a keyword arg: x. From version 0.12, the only valid positional argument will be `data`, and passing other arguments without an explicit keyword will result in an error or misinterpretation.\n",
      "  warnings.warn(\n"
     ]
    },
    {
     "data": {
      "text/plain": [
       "<AxesSubplot:xlabel='discourse_effectiveness', ylabel='count'>"
      ]
     },
     "execution_count": 75,
     "metadata": {},
     "output_type": "execute_result"
    },
    {
     "data": {
      "image/png": "[encoded data removed]",
      "text/plain": [
       "<Figure size 432x288 with 1 Axes>"
      ]
     },
     "metadata": {
      "needs_background": "light"
     },
     "output_type": "display_data"
    }
   ],
   "source": [
    "sns.countplot(df['discourse_effectiveness'], alpha = 0.4)"
   ]
  },
  {
   "cell_type": "code",
   "execution_count": 76,
   "id": "82bcc8b3-d1e6-4c2d-9871-0d5c9e63dee9",
   "metadata": {},
   "outputs": [
    {
     "data": {
      "text/plain": [
       "\"On my perspective, I think that the face is a natural landform because I dont think that there is any life on Mars. In these next few paragraphs, I'll be talking about how I think that is is a natural landform \""
      ]
     },
     "execution_count": 76,
     "metadata": {},
     "output_type": "execute_result"
    }
   ],
   "source": [
    "df[\"discourse_text\"][1]"
   ]
  },
  {
   "cell_type": "code",
   "execution_count": 77,
   "id": "342364d0-1093-417a-8b70-cae54a66557f",
   "metadata": {},
   "outputs": [
    {
     "data": {
      "text/plain": [
       "discourse_id               0\n",
       "essay_id                   0\n",
       "discourse_text             0\n",
       "discourse_type             0\n",
       "discourse_effectiveness    0\n",
       "dtype: int64"
      ]
     },
     "execution_count": 77,
     "metadata": {},
     "output_type": "execute_result"
    }
   ],
   "source": [
    "df.isna().sum()"
   ]
  },
  {
   "cell_type": "code",
   "execution_count": 78,
   "id": "76ab347c-a30b-4888-8712-53d1365fb369",
   "metadata": {},
   "outputs": [
    {
     "data": {
      "text/plain": [
       "Evidence                12104\n",
       "Claim                   11953\n",
       "Position                 3980\n",
       "Concluding Statement     3350\n",
       "Lead                     2289\n",
       "Counterclaim             1771\n",
       "Rebuttal                 1244\n",
       "Name: discourse_type, dtype: int64"
      ]
     },
     "execution_count": 78,
     "metadata": {},
     "output_type": "execute_result"
    }
   ],
   "source": [
    "df['discourse_type'].value_counts()"
   ]
  },
  {
   "cell_type": "code",
   "execution_count": 79,
   "id": "ea201e3a-da5d-4207-a763-a64554ac89ad",
   "metadata": {},
   "outputs": [],
   "source": [
    "# from sklearn.preprocessing import OneHotEncoder\n",
    "# enc=OneHotEncoder()\n",
    "# enc_data=pd.DataFrame(enc.fit_transform(df['discourse_type']).toarray())\n",
    "# df=data.join(enc_data)\n",
    "# print(df.shape)\n",
    "# df.head()\n"
   ]
  },
  {
   "cell_type": "code",
   "execution_count": 80,
   "id": "d51e0cdb-e801-4ed7-b930-7390041f5313",
   "metadata": {},
   "outputs": [
    {
     "data": {
      "text/html": [
       "<div>\n",
       "<style scoped>\n",
       "    .dataframe tbody tr th:only-of-type {\n",
       "        vertical-align: middle;\n",
       "    }\n",
       "\n",
       "    .dataframe tbody tr th {\n",
       "        vertical-align: top;\n",
       "    }\n",
       "\n",
       "    .dataframe thead th {\n",
       "        text-align: right;\n",
       "    }\n",
       "</style>\n",
       "<table border=\"1\" class=\"dataframe\">\n",
       "  <thead>\n",
       "    <tr style=\"text-align: right;\">\n",
       "      <th></th>\n",
       "      <th>discourse_id</th>\n",
       "      <th>discourse_text</th>\n",
       "      <th>discourse_type</th>\n",
       "      <th>label</th>\n",
       "    </tr>\n",
       "  </thead>\n",
       "  <tbody>\n",
       "    <tr>\n",
       "      <th>0</th>\n",
       "      <td>0013cc385424</td>\n",
       "      <td>Hi, i'm Isaac, i'm going to be writing about h...</td>\n",
       "      <td>Lead</td>\n",
       "      <td>1</td>\n",
       "    </tr>\n",
       "    <tr>\n",
       "      <th>1</th>\n",
       "      <td>9704a709b505</td>\n",
       "      <td>On my perspective, I think that the face is a ...</td>\n",
       "      <td>Position</td>\n",
       "      <td>1</td>\n",
       "    </tr>\n",
       "    <tr>\n",
       "      <th>2</th>\n",
       "      <td>c22adee811b6</td>\n",
       "      <td>I think that the face is a natural landform be...</td>\n",
       "      <td>Claim</td>\n",
       "      <td>1</td>\n",
       "    </tr>\n",
       "    <tr>\n",
       "      <th>3</th>\n",
       "      <td>a10d361e54e4</td>\n",
       "      <td>If life was on Mars, we would know by now. The...</td>\n",
       "      <td>Evidence</td>\n",
       "      <td>1</td>\n",
       "    </tr>\n",
       "    <tr>\n",
       "      <th>4</th>\n",
       "      <td>db3e453ec4e2</td>\n",
       "      <td>People thought that the face was formed by ali...</td>\n",
       "      <td>Counterclaim</td>\n",
       "      <td>1</td>\n",
       "    </tr>\n",
       "  </tbody>\n",
       "</table>\n",
       "</div>"
      ],
      "text/plain": [
       "   discourse_id                                     discourse_text  \\\n",
       "0  0013cc385424  Hi, i'm Isaac, i'm going to be writing about h...   \n",
       "1  9704a709b505  On my perspective, I think that the face is a ...   \n",
       "2  c22adee811b6  I think that the face is a natural landform be...   \n",
       "3  a10d361e54e4  If life was on Mars, we would know by now. The...   \n",
       "4  db3e453ec4e2  People thought that the face was formed by ali...   \n",
       "\n",
       "  discourse_type  label  \n",
       "0           Lead      1  \n",
       "1       Position      1  \n",
       "2          Claim      1  \n",
       "3       Evidence      1  \n",
       "4   Counterclaim      1  "
      ]
     },
     "execution_count": 80,
     "metadata": {},
     "output_type": "execute_result"
    }
   ],
   "source": [
    "# #One hot encode discourse_type\n",
    "\n",
    "# type_dummies = pd.get_dummies(df['discourse_type'])\n",
    "# df = pd.concat([df.drop(columns='discourse_type'), type_dummies], axis=1)\n",
    "\n",
    "#label\n",
    "df['label'] = df['discourse_effectiveness'].apply(lambda x: 2 if x == 'Effective' else 1 if x == 'Adequate'else 0)\n",
    "df = df.drop(columns='discourse_effectiveness')\n",
    "df = df.drop(columns='essay_id')\n",
    "df.head()"
   ]
  },
  {
   "cell_type": "code",
   "execution_count": null,
   "id": "42753d5c-7d88-4395-b4be-beeddf8bc15a",
   "metadata": {},
   "outputs": [],
   "source": []
  },
  {
   "cell_type": "code",
   "execution_count": 81,
   "id": "40506761-b5fd-4818-90f4-5efbd0284203",
   "metadata": {},
   "outputs": [
    {
     "name": "stdout",
     "output_type": "stream",
     "text": [
      "(29352, 4) (7339, 4)\n"
     ]
    }
   ],
   "source": [
    "#train_text_split\n",
    "df_train, df_test = train_test_split(df, test_size=0.2)\n",
    "print(df_train.shape, df_test.shape)"
   ]
  },
  {
   "cell_type": "code",
   "execution_count": 82,
   "id": "e5c879a1-5338-418c-9167-73c360a5455b",
   "metadata": {},
   "outputs": [
    {
     "data": {
      "text/plain": [
       "Index(['discourse_id', 'discourse_text', 'discourse_type', 'label'], dtype='object')"
      ]
     },
     "execution_count": 82,
     "metadata": {},
     "output_type": "execute_result"
    }
   ],
   "source": [
    "df.columns"
   ]
  },
  {
   "cell_type": "code",
   "execution_count": 83,
   "id": "6619a387-8fec-4b62-b58c-60f45839d7f6",
   "metadata": {},
   "outputs": [],
   "source": [
    "# vec = TfidfVectorizer()\n",
    "# dense_x = vec.fit_transform(df_train['discourse_text']).todense()\n",
    "# cols_x = vec.get_feature_names()\n",
    "# y_train = df_train['label']\n",
    "# df_train = df_train.drop(['discourse_text', 'label'],axis=1)\n",
    "# X_train = df_train.join(pd.DataFrame(dense_x, columns=cols_x))\n",
    "\n",
    "# dense_y = vec.transform(df_test['discourse_text']).todense()\n",
    "# cols_y = vec.get_feature_names()\n",
    "# y_test = df_test['label']\n",
    "# df_test = df_test.drop(['discourse_text', 'label'],axis=1)\n",
    "# X_test = df_test.join(pd.DataFrame(dense_y, columns=cols_y))\n",
    "\n",
    "# print(X_train.shape, y_train.shape, X_test.shape, y_test.shape)"
   ]
  },
  {
   "cell_type": "code",
   "execution_count": 84,
   "id": "3a3b9ce6-7dd7-4d19-918d-6bc4d6da1c60",
   "metadata": {},
   "outputs": [
    {
     "name": "stdout",
     "output_type": "stream",
     "text": [
      "(29352, 24600) (7339, 24600)\n"
     ]
    }
   ],
   "source": [
    "vectorize = TfidfVectorizer()\n",
    "X_train = vectorize.fit_transform(df_train['discourse_text'])\n",
    "y_train = df_train['label']\n",
    "\n",
    "X_test = vectorize.transform(df_test['discourse_text'])\n",
    "y_test = df_test['label']\n",
    "\n",
    "test = pd.read_csv(\"data/test.csv\")\n",
    "X_test2 = vectorize.transform(test['discourse_text'])\n",
    "\n",
    "print(X_train.shape, X_test.shape)"
   ]
  },
  {
   "cell_type": "code",
   "execution_count": 85,
   "id": "39d94f0e-7cb6-4711-aad4-193faf1768c3",
   "metadata": {},
   "outputs": [],
   "source": [
    "# a = df_train[['Claim', 'Concluding Statement', 'Counterclaim', 'Evidence', 'Lead', 'Position', 'Rebuttal']].reset_index()\n",
    "# b=  df_test[['Claim', 'Concluding Statement', 'Counterclaim', 'Evidence', 'Lead', 'Position', 'Rebuttal']].reset_index()\n",
    "# X_train = X_train.join(a)\n",
    "# X_test = X_test.join(b)\n",
    "# print(X_train.shape, y_train.shape, X_test.shape, y_test.shape)"
   ]
  },
  {
   "cell_type": "code",
   "execution_count": 86,
   "id": "d84d61a3-155f-492b-8f39-ab52e6f2245e",
   "metadata": {},
   "outputs": [],
   "source": [
    "# X_train[[ 'Claim', 'Concluding Statement', 'Counterclaim', 'Evidence', 'Lead', 'Position', 'Rebuttal' ]] = df_train[[  'Claim', 'Concluding Statement', 'Counterclaim', 'Evidence', 'Lead', 'Position', 'Rebuttal' ]]\n",
    "# X_test[[  'Claim', 'Concluding Statement', 'Counterclaim', 'Evidence', 'Lead', 'Position', 'Rebuttal' ]] = df_test[[  'Claim', 'Concluding Statement', 'Counterclaim', 'Evidence', 'Lead', 'Position', 'Rebuttal' ]]\n",
    "# print(X_train.shape, y_train.shape, X_test.shape, y_test.shape)"
   ]
  },
  {
   "cell_type": "code",
   "execution_count": null,
   "id": "c5731c10-6e39-4448-9ab5-fb7b875ce25b",
   "metadata": {},
   "outputs": [],
   "source": []
  },
  {
   "cell_type": "code",
   "execution_count": 87,
   "id": "42fd3f33-e13c-4015-85b2-05680ae92b50",
   "metadata": {},
   "outputs": [
    {
     "name": "stdout",
     "output_type": "stream",
     "text": [
      "[[0.17094017 0.8018648  0.02719503]\n",
      " [0.04014252 0.86199525 0.09786223]\n",
      " [0.00814332 0.49022801 0.50162866]]\n",
      "              precision    recall  f1-score   support\n",
      "\n",
      "           0       0.54      0.17      0.26      1287\n",
      "           1       0.65      0.86      0.74      4210\n",
      "           2       0.67      0.50      0.58      1842\n",
      "\n",
      "    accuracy                           0.65      7339\n",
      "   macro avg       0.62      0.51      0.53      7339\n",
      "weighted avg       0.64      0.65      0.62      7339\n",
      "\n",
      "AUC:  0.76994150321165\n"
     ]
    },
    {
     "name": "stderr",
     "output_type": "stream",
     "text": [
      "C:\\Users\\e175932\\Anaconda3\\lib\\site-packages\\sklearn\\linear_model\\_logistic.py:763: ConvergenceWarning: lbfgs failed to converge (status=1):\n",
      "STOP: TOTAL NO. of ITERATIONS REACHED LIMIT.\n",
      "\n",
      "Increase the number of iterations (max_iter) or scale the data as shown in:\n",
      "    https://scikit-learn.org/stable/modules/preprocessing.html\n",
      "Please also refer to the documentation for alternative solver options:\n",
      "    https://scikit-learn.org/stable/modules/linear_model.html#logistic-regression\n",
      "  n_iter_i = _check_optimize_result(\n"
     ]
    }
   ],
   "source": [
    "#logsitic regression\n",
    "\n",
    "glm = LogisticRegression()\n",
    "glm.fit(X_train, y_train)\n",
    "pred1 = glm.predict(X_test)\n",
    "p_pred1 = glm.predict_proba(X_test)\n",
    "print(metrics.confusion_matrix(y_test, pred1, normalize='true'))\n",
    "print(metrics.classification_report(y_test, pred1))\n",
    "print(\"AUC: \", metrics.roc_auc_score(y_test, p_pred1, multi_class='ovo'))"
   ]
  },
  {
   "cell_type": "code",
   "execution_count": 88,
   "id": "7b7cd0be-a772-43c9-81a2-ec6d92ad37fc",
   "metadata": {},
   "outputs": [
    {
     "data": {
      "text/plain": [
       "array([[0.36048446, 0.57681214, 0.06270341],\n",
       "       [0.06794291, 0.61600198, 0.31605511],\n",
       "       [0.18313745, 0.6694649 , 0.14739766],\n",
       "       ...,\n",
       "       [0.71345518, 0.23700968, 0.04953514],\n",
       "       [0.11337615, 0.47697551, 0.40964834],\n",
       "       [0.02496411, 0.24434942, 0.73068647]])"
      ]
     },
     "execution_count": 88,
     "metadata": {},
     "output_type": "execute_result"
    }
   ],
   "source": [
    "p_pred1"
   ]
  },
  {
   "cell_type": "markdown",
   "id": "f59c4944-dde1-4848-922c-7502a3e6cfba",
   "metadata": {},
   "source": [
    "the performance result is slightly decrease"
   ]
  },
  {
   "cell_type": "code",
   "execution_count": 89,
   "id": "825d01d8-2834-42c0-b19d-3cb18f95f301",
   "metadata": {},
   "outputs": [
    {
     "name": "stdout",
     "output_type": "stream",
     "text": [
      "0.6349638915383568\n",
      "AUC:  0.7507398218295763\n",
      "              precision    recall  f1-score   support\n",
      "\n",
      "           0       0.62      0.05      0.10      1287\n",
      "           1       0.62      0.96      0.75      4210\n",
      "           2       0.79      0.30      0.43      1842\n",
      "\n",
      "    accuracy                           0.63      7339\n",
      "   macro avg       0.68      0.44      0.43      7339\n",
      "weighted avg       0.66      0.63      0.56      7339\n",
      "\n"
     ]
    }
   ],
   "source": [
    "#Randome Forest\n",
    "rf = RandomForestClassifier( )\n",
    "rf.fit(X_train,y_train)\n",
    "print(rf.score(X_test, y_test))\n",
    "pred3 = rf.predict(X_test)\n",
    "p_pred3 = rf.predict_proba(X_test)\n",
    "print(\"AUC: \", metrics.roc_auc_score(y_test, p_pred3, multi_class='ovo'))\n",
    "print(metrics.classification_report(y_test, pred3))"
   ]
  },
  {
   "cell_type": "code",
   "execution_count": null,
   "id": "ccb0c653-c8a1-4355-8789-b22bd5a8d759",
   "metadata": {},
   "outputs": [],
   "source": []
  },
  {
   "cell_type": "code",
   "execution_count": 90,
   "id": "512e68da-774d-4ae3-8118-d4df566d61c1",
   "metadata": {},
   "outputs": [
    {
     "name": "stdout",
     "output_type": "stream",
     "text": [
      "[19:31:07] WARNING: C:/Users/Administrator/workspace/xgboost-win64_release_1.6.0/src/learner.cc:627: \n",
      "Parameters: { \"silent\" } might not be used.\n",
      "\n",
      "  This could be a false alarm, with some parameters getting used by language bindings but\n",
      "  then being mistakenly passed down to XGBoost core, or some parameter actually being used\n",
      "  but getting flagged wrongly here. Please open an issue if you find any such cases.\n",
      "\n",
      "\n",
      "AUC:  0.7573782963216246\n",
      "              precision    recall  f1-score   support\n",
      "\n",
      "           0       0.58      0.11      0.19      1287\n",
      "           1       0.64      0.91      0.75      4210\n",
      "           2       0.70      0.42      0.52      1842\n",
      "\n",
      "    accuracy                           0.64      7339\n",
      "   macro avg       0.64      0.48      0.49      7339\n",
      "weighted avg       0.64      0.64      0.59      7339\n",
      "\n"
     ]
    }
   ],
   "source": [
    "import xgboost as xgb\n",
    "from sklearn.model_selection import RandomizedSearchCV\n",
    "from sklearn.model_selection import RepeatedStratifiedKFold\n",
    "from sklearn.metrics import mean_squared_error\n",
    "  \n",
    "clf = xgb.XGBClassifier(\n",
    "    n_jobs = 1,\n",
    "    objective = 'multi:prob',\n",
    "    silent=1,\n",
    "    tree_method='approx'\n",
    ")   \n",
    "clf.fit(X_train, y_train)\n",
    "pred4 = clf.predict(X_test)\n",
    "p_pred4 =clf.predict_proba(X_test)\n",
    "print(\"AUC: \", metrics.roc_auc_score(y_test, p_pred4, multi_class='ovo'))\n",
    "print(metrics.classification_report(y_test, pred4))"
   ]
  },
  {
   "cell_type": "markdown",
   "id": "df805792-9565-4408-a4e9-b9366dd41c98",
   "metadata": {},
   "source": [
    "### Predict and submit"
   ]
  },
  {
   "cell_type": "code",
   "execution_count": 91,
   "id": "9be258f4-d80b-4e25-9066-3cb57bb92a7c",
   "metadata": {},
   "outputs": [],
   "source": [
    "# test = pd.read_csv(\"data/test.csv\")\n",
    "# print(test.shape)\n",
    "# test.head()\n",
    "# X_test = vectorize.transform(test['discourse_text'])"
   ]
  },
  {
   "cell_type": "code",
   "execution_count": 92,
   "id": "1e567b79-b3f9-43a6-9a80-7d348312576e",
   "metadata": {},
   "outputs": [],
   "source": [
    "# #One hot encode discourse_type\n",
    "# type1 = pd.get_dummies(test['discourse_type'])\n",
    "# test = pd.concat([test.drop(columns='discourse_type'), type1], axis=1)\n",
    "# test.shape"
   ]
  },
  {
   "cell_type": "code",
   "execution_count": 93,
   "id": "59ed7d71-76ad-4af1-a2fb-11eb97abbf11",
   "metadata": {},
   "outputs": [],
   "source": [
    "# X_test = vectorize.transform(test['discourse_text'])"
   ]
  },
  {
   "cell_type": "code",
   "execution_count": 94,
   "id": "5434d1f0-6f6e-4cc9-872d-bf0334d0a23c",
   "metadata": {},
   "outputs": [],
   "source": [
    "pred5 = clf.predict(X_test2)\n",
    "p_pred5 =clf.predict_proba(X_test2)\n"
   ]
  },
  {
   "cell_type": "code",
   "execution_count": 106,
   "id": "4fdfa254-3474-4ad8-8d97-356d2bdd3033",
   "metadata": {},
   "outputs": [
    {
     "data": {
      "text/plain": [
       "array([[0.01722361, 0.6476574 , 0.33511898],\n",
       "       [0.06035877, 0.58819544, 0.35144576],\n",
       "       [0.08856506, 0.64370364, 0.2677313 ],\n",
       "       [0.17227392, 0.5591429 , 0.26858318],\n",
       "       [0.18245263, 0.6400053 , 0.17754205],\n",
       "       [0.02085855, 0.25147155, 0.72766984],\n",
       "       [0.05060102, 0.3100068 , 0.6393922 ],\n",
       "       [0.18344772, 0.50467664, 0.31187564],\n",
       "       [0.08020022, 0.6145949 , 0.3052049 ],\n",
       "       [0.00793412, 0.14702347, 0.84504235]], dtype=float32)"
      ]
     },
     "execution_count": 106,
     "metadata": {},
     "output_type": "execute_result"
    }
   ],
   "source": [
    "p_pred5[:,0]"
   ]
  },
  {
   "cell_type": "code",
   "execution_count": 105,
   "id": "08ecb2be-1ffc-476e-8f34-4568cb8462e5",
   "metadata": {},
   "outputs": [
    {
     "data": {
      "text/plain": [
       "array([0.6476574 , 0.58819544, 0.64370364, 0.5591429 , 0.6400053 ,\n",
       "       0.25147155, 0.3100068 , 0.50467664, 0.6145949 , 0.14702347],\n",
       "      dtype=float32)"
      ]
     },
     "execution_count": 105,
     "metadata": {},
     "output_type": "execute_result"
    }
   ],
   "source": [
    "p_pred5[:,1]"
   ]
  },
  {
   "cell_type": "code",
   "execution_count": 107,
   "id": "e51a1b5e-a029-428b-83ef-d829e98c548e",
   "metadata": {},
   "outputs": [],
   "source": [
    "submission = pd.DataFrame()\n",
    "submission['discourse_id'] = test['discourse_id']\n",
    "submission['Ineffective'] = p_pred5[:,0]\n",
    "submission['Adequate'] = p_pred5[:,1]\n",
    "submission['Effective'] = p_pred5[:,2]\n",
    "submission.to_csv(\"submission_xgboost1\")"
   ]
  },
  {
   "cell_type": "code",
   "execution_count": null,
   "id": "13b428ac-bc92-4245-b587-f880fa7521b8",
   "metadata": {},
   "outputs": [],
   "source": []
  }
 ],
 "metadata": {
  "kernelspec": {
   "display_name": "Python 3",
   "language": "python",
   "name": "python3"
  },
  "language_info": {
   "codemirror_mode": {
    "name": "ipython",
    "version": 3
   },
   "file_extension": ".py",
   "mimetype": "text/x-python",
   "name": "python",
   "nbconvert_exporter": "python",
   "pygments_lexer": "ipython3",
   "version": "3.8.8"
  }
 },
 "nbformat": 4,
 "nbformat_minor": 5
}
